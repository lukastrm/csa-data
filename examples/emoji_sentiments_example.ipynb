{
 "cells": [
  {
   "cell_type": "code",
   "execution_count": null,
   "metadata": {
    "collapsed": true
   },
   "outputs": [],
   "source": [
    "import csadata.emoji as emoji\n",
    "\n",
    "strings = [\n",
    "    \"Word1 😀 word2 😅 word3 😄.\",\n",
    "    \"ok 😐😳🤔\",\n",
    "    \"No no no no no 😟😫😫\"\n",
    "]"
   ]
  },
  {
   "cell_type": "markdown",
   "source": [
    "The `load_emoji_sentiment_mapping` function loads a dictionary which contains the sentiment mapping for each known\n",
    "emoji. We use the `extract_emoji` function for each string to extract all the contained emojis into a single emoji\n",
    "string."
   ],
   "metadata": {
    "collapsed": false,
    "pycharm": {
     "name": "#%% md\n"
    }
   }
  },
  {
   "cell_type": "code",
   "execution_count": null,
   "outputs": [],
   "source": [
    "mapping = emoji.load_emoji_sentiment_mapping()\n",
    "emoji_strings = [emoji.extract_emojis(string)[1] for string in strings]\n",
    "print(emoji_strings)"
   ],
   "metadata": {
    "collapsed": false,
    "pycharm": {
     "name": "#%%\n"
    }
   }
  },
  {
   "cell_type": "markdown",
   "source": [
    "The `resolve_emoji_sentiments` function takes a list of emoji strings as input and resolves them into an N-by-3 Numpy\n",
    "array of the relating sentiment values."
   ],
   "metadata": {
    "collapsed": false,
    "pycharm": {
     "name": "#%% md\n"
    }
   }
  },
  {
   "cell_type": "code",
   "execution_count": null,
   "outputs": [],
   "source": [
    "sentiments = emoji.resolve_emoji_sentiments(emoji_strings, mapping)\n",
    "print(sentiments)"
   ],
   "metadata": {
    "collapsed": false,
    "pycharm": {
     "name": "#%%\n"
    }
   }
  }
 ],
 "metadata": {
  "kernelspec": {
   "display_name": "Python 3",
   "language": "python",
   "name": "python3"
  },
  "language_info": {
   "codemirror_mode": {
    "name": "ipython",
    "version": 2
   },
   "file_extension": ".py",
   "mimetype": "text/x-python",
   "name": "python",
   "nbconvert_exporter": "python",
   "pygments_lexer": "ipython2",
   "version": "2.7.6"
  }
 },
 "nbformat": 4,
 "nbformat_minor": 0
}