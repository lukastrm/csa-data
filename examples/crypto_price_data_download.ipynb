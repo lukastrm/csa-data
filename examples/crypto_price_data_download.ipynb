{
 "cells": [
  {
   "cell_type": "code",
   "execution_count": null,
   "metadata": {
    "collapsed": true
   },
   "outputs": [],
   "source": [
    "import csadata.crypto as crypto\n",
    "from datetime import datetime, timezone"
   ]
  },
  {
   "cell_type": "markdown",
   "source": [
    "The following script downloads historical price data for all cryptocurrencies that are defined by constants in the\n",
    "`csadata.crypto` module. For each cryptocurrency, the price data is downloaded for 3 different data point intervals on a\n",
    "global interval from 01/01/2020 00:00:00 to 05/31/2021 11:59:59."
   ],
   "metadata": {
    "collapsed": false,
    "pycharm": {
     "name": "#%% md\n"
    }
   }
  },
  {
   "cell_type": "code",
   "execution_count": null,
   "outputs": [],
   "source": [
    "# 01/01/2020 00:00:00\n",
    "start = int(datetime(2020, 1, 1, 0, 0, 0, tzinfo=timezone.utc).timestamp() * 1000)\n",
    "\n",
    "# 05/31/2021 11:59:59\n",
    "end = int(datetime(2021, 5, 31, 11, 59, 59, tzinfo=timezone.utc).timestamp() * 1000)\n",
    "\n",
    "api_key = None\n",
    "path = None\n",
    "\n",
    "intervals = [crypto.INTERVAL_1DAY, crypto.INTERVAL_1HOUR, crypto.INTERVAL_15MINUTE]\n",
    "\n",
    "for price in crypto.PRICES:\n",
    "    for interval in intervals:\n",
    "        crypto.download_crypto_price_data(price=price, interval=interval, start=start, end=end,\n",
    "                                      api_key=api_key, path=path)"
   ],
   "metadata": {
    "collapsed": false,
    "pycharm": {
     "name": "#%%\n"
    }
   }
  }
 ],
 "metadata": {
  "kernelspec": {
   "display_name": "Python 3",
   "language": "python",
   "name": "python3"
  },
  "language_info": {
   "codemirror_mode": {
    "name": "ipython",
    "version": 2
   },
   "file_extension": ".py",
   "mimetype": "text/x-python",
   "name": "python",
   "nbconvert_exporter": "python",
   "pygments_lexer": "ipython2",
   "version": "2.7.6"
  }
 },
 "nbformat": 4,
 "nbformat_minor": 0
}