{
 "cells": [
  {
   "cell_type": "code",
   "execution_count": null,
   "metadata": {
    "collapsed": true
   },
   "outputs": [],
   "source": [
    "import csadata.crypto as crypto\n",
    "from datetime import datetime, timezone"
   ]
  },
  {
   "cell_type": "markdown",
   "source": [
    "The `price` variable defines the enum value of the price value for the two currencies of interest. In this example we use\n",
    "the predefined constant `PRICE_DOGECOIN_USDT` which stands for the price of Dogecoin in Tether.\n",
    "\n",
    "The `interval` variable defines the enum value for the time interval of each data point, i.e. each data point represents a\n",
    "candlestick for that interval. In this example we use the predefined constant `INTERVAL_HOURLY` for an hour-to-hour\n",
    "price evaluation.\n",
    "\n",
    "The `api_key` variable holds the value of the Binance API token which is used to download the data.\n",
    "\n",
    "The `path` variable indicates the directory path in which the downloaded data is processed. If the value is `None`, the\n",
    "current working directory is used."
   ],
   "metadata": {
    "collapsed": false
   }
  },
  {
   "cell_type": "code",
   "execution_count": null,
   "outputs": [],
   "source": [
    "price = crypto.PRICE_DOGECOIN_USDT\n",
    "interval = crypto.INTERVAL_HOURLY\n",
    "api_key = None\n",
    "path = None"
   ],
   "metadata": {
    "collapsed": false,
    "pycharm": {
     "name": "#%%\n"
    }
   }
  },
  {
   "cell_type": "markdown",
   "source": [
    "The overall interval of interest is defined by its start and end time (both inclusive). Each value is a UNIX timestamp\n",
    "in milliseconds since Epoch."
   ],
   "metadata": {
    "collapsed": false
   }
  },
  {
   "cell_type": "code",
   "execution_count": null,
   "outputs": [],
   "source": [
    "# 01/01/2020 00:00:00\n",
    "start = int(datetime(2020, 1, 1, 0, 0, 0, tzinfo=timezone.utc).timestamp() * 1000)\n",
    "\n",
    "# 12/31/2020 23:59:59\n",
    "end = int(datetime(2020, 12, 31, 23, 59, 59, tzinfo=timezone.utc).timestamp() * 1000)"
   ],
   "metadata": {
    "collapsed": false,
    "pycharm": {
     "name": "#%%\n"
    }
   }
  },
  {
   "cell_type": "markdown",
   "source": [
    "We use the `download_crypto_data` function to download the price data."
   ],
   "metadata": {
    "collapsed": false
   }
  },
  {
   "cell_type": "code",
   "execution_count": null,
   "outputs": [],
   "source": [
    "crypto.download_crypto_price_data(price=price, interval=interval, start=start, end=end, api_key=api_key, path=path)"
   ],
   "metadata": {
    "collapsed": false,
    "pycharm": {
     "name": "#%%\n"
    }
   }
  },
  {
   "cell_type": "markdown",
   "source": [
    "We use the `load_crypto_price_data` function to load the previously downloaded data into a Numpy array."
   ],
   "metadata": {
    "collapsed": false,
    "pycharm": {
     "name": "#%% md\n"
    }
   }
  },
  {
   "cell_type": "code",
   "execution_count": null,
   "outputs": [],
   "source": [
    "X = crypto.load_crypto_price_data(price=price, interval=interval, start=start, end=end, path=path)"
   ],
   "metadata": {
    "collapsed": false,
    "pycharm": {
     "name": "#%%\n"
    }
   }
  },
  {
   "cell_type": "markdown",
   "source": [
    "The first 1-hour-candlestick of our overall interval has the following characteristics:"
   ],
   "metadata": {
    "collapsed": false,
    "pycharm": {
     "name": "#%% md\n"
    }
   }
  },
  {
   "cell_type": "code",
   "execution_count": null,
   "outputs": [],
   "source": [
    "first_candlestick = X[0]\n",
    "print(\"Open time: %d\" % (first_candlestick[crypto.IDX_OPEN_TIME]))\n",
    "print(\"Open: %f\" % (first_candlestick[crypto.IDX_OPEN]))\n",
    "print(\"High: %f\" % (first_candlestick[crypto.IDX_HIGH]))\n",
    "print(\"Low: %f\" % (first_candlestick[crypto.IDX_LOW]))\n",
    "print(\"Close: %f\" % (first_candlestick[crypto.IDX_CLOSE]))\n",
    "print(\"Volume: %f\" % (first_candlestick[crypto.IDX_VOLUME]))\n",
    "print(\"Close time: %d\" % (first_candlestick[crypto.IDX_CLOSE_TIME]))\n",
    "print(\"Quote asset volume: %f\" % (first_candlestick[crypto.IDX_QUOTE_ASSET_VOLUME]))\n",
    "print(\"Number of trades: %d\" % (first_candlestick[crypto.IDX_NUMBER_OF_TRADES]))\n",
    "print(\"Taker buy base asset volume: %f\" % (first_candlestick[crypto.IDX_TAKER_BUY_BASE_ASSET_VOLUME]))\n",
    "print(\"Taker buy quote asset volume: %f\" % (first_candlestick[crypto.IDX_TAKER_BUY_QUOTE_ASSET_VOLUME]))"
   ],
   "metadata": {
    "collapsed": false,
    "pycharm": {
     "name": "#%%\n"
    }
   }
  }
 ],
 "metadata": {
  "kernelspec": {
   "display_name": "Python 3",
   "language": "python",
   "name": "python3"
  },
  "language_info": {
   "codemirror_mode": {
    "name": "ipython",
    "version": 2
   },
   "file_extension": ".py",
   "mimetype": "text/x-python",
   "name": "python",
   "nbconvert_exporter": "python",
   "pygments_lexer": "ipython2",
   "version": "2.7.6"
  }
 },
 "nbformat": 4,
 "nbformat_minor": 0
}