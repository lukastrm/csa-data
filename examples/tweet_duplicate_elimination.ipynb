{
 "cells": [
  {
   "cell_type": "code",
   "execution_count": 1,
   "metadata": {
    "collapsed": true
   },
   "outputs": [],
   "source": [
    "import csadata.twitter as twitter\n",
    "from datetime import datetime, timezone"
   ]
  },
  {
   "cell_type": "code",
   "execution_count": 2,
   "outputs": [
    {
     "name": "stdout",
     "output_type": "stream",
     "text": [
      "Processed Tweets: 8851886\n",
      "Eliminated Tweets: 317399\n",
      "Tweet duplicate ratio: 3.59 %\n"
     ]
    }
   ],
   "source": [
    "start = int(datetime(2020, 10, 1, 0, 0, 0, tzinfo=timezone.utc).timestamp())\n",
    "end = int(datetime(2021, 7, 14, 23, 59, 59, tzinfo=timezone.utc).timestamp())\n",
    "\n",
    "input_path = None\n",
    "output_path = None\n",
    "\n",
    "reader = twitter.TweetCSVReader(path=input_path, start=start, end=end)\n",
    "writer = twitter.TweetCSVWriter(path=output_path)\n",
    "\n",
    "duplicate_filter = twitter.TweetDuplicateFilter(dissimilarity_threshold=.2, batch_size=200)\n",
    "\n",
    "for tweet in reader:\n",
    "    twitter.preprocess_text(tweet)\n",
    "\n",
    "    if duplicate_filter.feed(tweet):\n",
    "        filtered_tweet = None\n",
    "\n",
    "        while True:\n",
    "            filtered_tweet = duplicate_filter.pull()\n",
    "\n",
    "            if filtered_tweet is None:\n",
    "                break\n",
    "            else:\n",
    "                writer.write(filtered_tweet)\n",
    "\n",
    "print(\"Processed Tweets: {}\".format(duplicate_filter.processed_tweets))\n",
    "print(\"Eliminated Tweets: {}\".format(duplicate_filter.eliminated_tweets))\n",
    "print(\"Tweet duplicate ratio: {:.2f} %\".format(duplicate_filter.eliminated_tweets / duplicate_filter.processed_tweets * 100))"
   ],
   "metadata": {
    "collapsed": false,
    "pycharm": {
     "name": "#%%\n"
    }
   }
  }
 ],
 "metadata": {
  "kernelspec": {
   "display_name": "Python 3",
   "language": "python",
   "name": "python3"
  },
  "language_info": {
   "codemirror_mode": {
    "name": "ipython",
    "version": 2
   },
   "file_extension": ".py",
   "mimetype": "text/x-python",
   "name": "python",
   "nbconvert_exporter": "python",
   "pygments_lexer": "ipython2",
   "version": "2.7.6"
  }
 },
 "nbformat": 4,
 "nbformat_minor": 0
}