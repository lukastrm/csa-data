{
 "cells": [
  {
   "cell_type": "code",
   "execution_count": null,
   "metadata": {
    "collapsed": true
   },
   "outputs": [],
   "source": [
    "import csadata.twitter as twitter\n",
    "import csadata.sentiment as sentiment\n",
    "from datetime import datetime, timezone"
   ]
  },
  {
   "cell_type": "code",
   "execution_count": null,
   "outputs": [],
   "source": [
    "start = int(datetime(2021, 5, 20, 8, 15, 0, tzinfo=timezone.utc).timestamp())\n",
    "end = int(datetime(2021, 7, 14, 23, 59, 59, tzinfo=timezone.utc).timestamp())\n",
    "\n",
    "input_path = None\n",
    "output_path = None\n",
    "\n",
    "analyzer = twitter.TweetSentimentAnalyzer(analyzer=sentiment.RoBERTaSentimentAnalyzer())\n",
    "\n",
    "with twitter.TweetCSVReader(path=input_path, start=start, end=end, include_sentiment=False) as reader, \\\n",
    "        twitter.TweetCSVWriter(path=output_path, include_sentiment=True) as writer:\n",
    "    for tweet in reader:\n",
    "        analyzer.analyze(tweet)\n",
    "        writer.write(tweet)"
   ],
   "metadata": {
    "collapsed": false,
    "pycharm": {
     "name": "#%%\n"
    }
   }
  }
 ],
 "metadata": {
  "kernelspec": {
   "display_name": "Python 3",
   "language": "python",
   "name": "python3"
  },
  "language_info": {
   "codemirror_mode": {
    "name": "ipython",
    "version": 2
   },
   "file_extension": ".py",
   "mimetype": "text/x-python",
   "name": "python",
   "nbconvert_exporter": "python",
   "pygments_lexer": "ipython2",
   "version": "2.7.6"
  }
 },
 "nbformat": 4,
 "nbformat_minor": 0
}