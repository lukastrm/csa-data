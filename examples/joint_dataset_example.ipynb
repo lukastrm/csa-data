{
 "cells": [
  {
   "cell_type": "code",
   "execution_count": null,
   "metadata": {
    "collapsed": true
   },
   "outputs": [],
   "source": [
    "import numpy\n",
    "import csadata.twitter as twitter\n",
    "import csadata.crypto as crypto\n",
    "from datetime import datetime, timezone"
   ]
  },
  {
   "cell_type": "markdown",
   "source": [
    "The following script loads a small sample dataset of both Dogecoin price and Tweet data and joins them into a single\n",
    "data set. The Tweet data is organized in a directory structure with a directory time interval of 1 day and a file time\n",
    "interval of 15 minutes. The Dogecoin price data is given as candlestick data, covering time intervals of 15 minutes\n",
    "each. Both data sets contain data from 2021/06/01 until 2021/06/06.\n",
    "The resulting data set indicates for each Tweet if the price in the upcoming 15-minute interval increases or decreases."
   ],
   "metadata": {
    "collapsed": false,
    "pycharm": {
     "name": "#%% md\n"
    }
   }
  },
  {
   "cell_type": "code",
   "execution_count": null,
   "outputs": [],
   "source": [
    "dir_interval = 60 * 60 * 24 # 24 hour directory interval\n",
    "file_interval = 60 * 15 # 15 minutes file interval\n",
    "\n",
    "start = int(datetime(2021, 6, 1, 0, 0, 0, tzinfo=timezone.utc).timestamp()) # 06/01/2021 00:00:00\n",
    "end = int(datetime(2021, 6, 6, 23, 59, 59, tzinfo=timezone.utc).timestamp()) # 06/06/2021 23:59:59\n",
    "\n",
    "crypto_path = None # Insert the path to the Dogecoin price data CSV file or its directory\n",
    "\n",
    "# Load price data\n",
    "price_data = crypto.load_crypto_price_data(crypto.PRICE_DOGECOIN_USDT, crypto.INTERVAL_15MINUTE, int(start * 1000),\n",
    "                                           int(end * 1000), crypto_path)\n",
    "price_changes = numpy.column_stack(((price_data[:-1, crypto.IDX_OPEN_TIME] / 1000).astype(int),\n",
    "                                    (price_data[:-1, crypto.IDX_CLOSE] - price_data[1:, crypto.IDX_CLOSE] > 0)\n",
    "                                    .astype(int)))\n",
    "\n",
    "# Use a dictionary for faster lookups when assigning price changes to single Tweets\n",
    "price_change_dict = {}\n",
    "\n",
    "# Assign price changes to the dictionary\n",
    "for i in range(price_changes.shape[0]):\n",
    "    price_change_dict[price_changes[i][0]] = price_changes[i][1]"
   ],
   "metadata": {
    "collapsed": false,
    "pycharm": {
     "name": "#%%\n"
    }
   }
  },
  {
   "cell_type": "markdown",
   "source": [
    "The following step counts all Tweets in the given data set and initializes the corresponding data arrays."
   ],
   "metadata": {
    "collapsed": false,
    "pycharm": {
     "name": "#%% md\n"
    }
   }
  },
  {
   "cell_type": "code",
   "execution_count": null,
   "outputs": [],
   "source": [
    "num_tweets = 0\n",
    "twitter_path = None # Insert the path to the Tweet data root directory\n",
    "\n",
    "with twitter.TweetCSVReader(path=twitter_path, start=start, end=end) as csv_reader:\n",
    "    for _ in csv_reader:\n",
    "        num_tweets += 1\n",
    "\n",
    "X = numpy.zeros((num_tweets, 7))\n",
    "y = numpy.zeros((num_tweets, ))"
   ],
   "metadata": {
    "collapsed": false,
    "pycharm": {
     "name": "#%%\n"
    }
   }
  },
  {
   "cell_type": "markdown",
   "source": [
    "We then load the actual Tweets and assign values to the data arrays. The value of\n",
    "`X` is an `num_tweets`-by-7 NumPy array where each row corresponds to a single data point (Tweet) and with columns for\n",
    "the like, reply, retweet and quote counts as well as for the negativity, neutrality and positivity sentiment values.\n",
    "The value of `y` is a NumPy array of length `num_tweets` where each value indicates if the Dogecoin price in the\n",
    "subsequent time interval closes lower (0) or higher (1) than in the current interval."
   ],
   "metadata": {
    "collapsed": false,
    "pycharm": {
     "name": "#%% md\n"
    }
   }
  },
  {
   "cell_type": "code",
   "execution_count": null,
   "outputs": [],
   "source": [
    "with twitter.TweetCSVReader(path=twitter_path, start=start, end=end) as csv_reader:\n",
    "    for i, tweet in enumerate(csv_reader):\n",
    "        # Look up price change based on the base time of the current time interval\n",
    "        base_time = int(tweet.time // file_interval * file_interval)\n",
    "        price_change = price_change_dict.get(base_time)\n",
    "\n",
    "        if price_change is None:\n",
    "            # End of whole time interval (no subsequent time interval)\n",
    "            # TODO: Handle missing initializations in data array for these cases\n",
    "            continue\n",
    "\n",
    "        X[i, 0:4] = [tweet.like_count, tweet.reply_count, tweet.retweet_count, tweet.quote_count]\n",
    "        # X[i, 5:] = numpy.array([negativity, neutrality, positivity]) -> Assign sentiment values for this Tweet\n",
    "        y[i] = price_change"
   ],
   "metadata": {
    "collapsed": false,
    "pycharm": {
     "name": "#%%\n"
    }
   }
  },
  {
   "cell_type": "markdown",
   "source": [
    "At this point we can use `X` and `y` into train respective classifiers."
   ],
   "metadata": {
    "collapsed": false,
    "pycharm": {
     "name": "#%% md\n",
     "is_executing": true
    }
   }
  }
 ],
 "metadata": {
  "kernelspec": {
   "display_name": "Python 3",
   "language": "python",
   "name": "python3"
  },
  "language_info": {
   "codemirror_mode": {
    "name": "ipython",
    "version": 2
   },
   "file_extension": ".py",
   "mimetype": "text/x-python",
   "name": "python",
   "nbconvert_exporter": "python",
   "pygments_lexer": "ipython2",
   "version": "2.7.6"
  }
 },
 "nbformat": 4,
 "nbformat_minor": 0
}