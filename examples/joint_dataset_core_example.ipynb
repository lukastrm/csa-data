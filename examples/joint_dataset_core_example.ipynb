{
 "cells": [
  {
   "cell_type": "code",
   "execution_count": null,
   "outputs": [],
   "source": [
    "import numpy\n",
    "import csadata.core as core\n",
    "import csadata.crypto as crypto\n",
    "from datetime import datetime, timezone"
   ],
   "metadata": {
    "collapsed": false,
    "pycharm": {
     "name": "#%%\n"
    }
   }
  },
  {
   "cell_type": "code",
   "execution_count": null,
   "metadata": {
    "collapsed": true
   },
   "outputs": [],
   "source": [
    "twitter_path = None\n",
    "crypto_path = None\n",
    "\n",
    "start = int(datetime(2020, 10, 1, 0, 0, 0, tzinfo=timezone.utc).timestamp())\n",
    "end = int(datetime(2021, 7, 14, 23, 59, 59, tzinfo=timezone.utc).timestamp())\n",
    "\n",
    "interval = core.INTERVAL_1MINUTE\n",
    "\n",
    "output_path = None\n",
    "\n",
    "data_set, _ = core.build_sentiment_data_set(start=start, end=end, interval=interval, tweet_path=twitter_path,\n",
    "                                            crypto_path=crypto_path, include_prices=crypto.PRICES[:6])\n",
    "\n",
    "with open(output_path, \"wb\") as f:\n",
    "    numpy.save(f, data_set)"
   ]
  }
 ],
 "metadata": {
  "kernelspec": {
   "display_name": "Python 3",
   "language": "python",
   "name": "python3"
  },
  "language_info": {
   "codemirror_mode": {
    "name": "ipython",
    "version": 2
   },
   "file_extension": ".py",
   "mimetype": "text/x-python",
   "name": "python",
   "nbconvert_exporter": "python",
   "pygments_lexer": "ipython2",
   "version": "2.7.6"
  }
 },
 "nbformat": 4,
 "nbformat_minor": 0
}