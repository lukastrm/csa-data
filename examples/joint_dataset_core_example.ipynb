{
 "cells": [
  {
   "cell_type": "code",
   "execution_count": null,
   "outputs": [],
   "source": [
    "import numpy\n",
    "import csadata.core as core\n",
    "import csadata.crypto as crypto\n",
    "from datetime import datetime, timezone"
   ],
   "metadata": {
    "collapsed": false,
    "pycharm": {
     "name": "#%%\n"
    }
   }
  },
  {
   "cell_type": "code",
   "execution_count": null,
   "metadata": {
    "collapsed": true
   },
   "outputs": [],
   "source": [
    "twitter_path = None\n",
    "crypto_path = None\n",
    "\n",
    "start = int(datetime(2021, 6, 1, 0, 0, 0, tzinfo=timezone.utc).timestamp())  # 06/01/2021 00:00:00\n",
    "end = int(datetime(2021, 6, 1, 0, 15, 0, tzinfo=timezone.utc).timestamp())  # 06/06/2021 23:59:59\n",
    "\n",
    "data_set = core.build_sentiment_data_set(start=start, end=end, interval=core.INTERVAL_15MINUTE, tweet_path=twitter_path,\n",
    "                                         crypto_path=crypto_path, include_prices=crypto.PRICES[:6])\n",
    "\n",
    "with open(\"example_data_set.npy\", \"wb\") as f:\n",
    "    numpy.save(f, data_set)"
   ]
  }
 ],
 "metadata": {
  "kernelspec": {
   "display_name": "Python 3",
   "language": "python",
   "name": "python3"
  },
  "language_info": {
   "codemirror_mode": {
    "name": "ipython",
    "version": 2
   },
   "file_extension": ".py",
   "mimetype": "text/x-python",
   "name": "python",
   "nbconvert_exporter": "python",
   "pygments_lexer": "ipython2",
   "version": "2.7.6"
  }
 },
 "nbformat": 4,
 "nbformat_minor": 0
}