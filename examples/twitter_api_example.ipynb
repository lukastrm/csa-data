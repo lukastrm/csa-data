{
 "cells": [
  {
   "cell_type": "code",
   "execution_count": null,
   "metadata": {
    "collapsed": true
   },
   "outputs": [],
   "source": [
    "import re\n",
    "import csadata.twitter as twitter\n",
    "from datetime import datetime, timezone"
   ]
  },
  {
   "cell_type": "markdown",
   "source": [
    "The `TwitterAPI` class represents a handle to the Twitter Tweet Search API. Since each API request has to be authorized,\n",
    "we have to transmit an API token via the `bearer_token` parameter."
   ],
   "metadata": {
    "collapsed": false,
    "pycharm": {
     "name": "#%% md\n"
    }
   }
  },
  {
   "cell_type": "code",
   "execution_count": null,
   "outputs": [],
   "source": [
    "bearer_token = None\n",
    "api = twitter.TwitterAPI(bearer_token=bearer_token)"
   ],
   "metadata": {
    "collapsed": false,
    "pycharm": {
     "name": "#%%\n"
    }
   }
  },
  {
   "cell_type": "markdown",
   "source": [
    "The `TweetCSVWriter` class is responsible for writing the contents and metrics of the requested Tweets to indexed CSV\n",
    "files. Each file holds the amount of Tweets that have been posted within a certain time interval. The duration of this\n",
    "time interval in seconds is expressed by the `file_interval` parameter. A file indexing structure can be built with time\n",
    "intervals that are greater than the one described by the `file_interval` parameter. Each level of this indexing\n",
    "structure is also described by a time interval. The `dir_intervals` parameter holds these time interval durations (also\n",
    "in seconds) in descending order.\n",
    "\n",
    "In this example, we structure the downloaded Tweet data in CSV files with a corresponding time interval of 1 hour and\n",
    "in directories with a corresponding time interval of 1 day."
   ],
   "metadata": {
    "collapsed": false,
    "pycharm": {
     "name": "#%% md\n"
    }
   }
  },
  {
   "cell_type": "code",
   "execution_count": null,
   "outputs": [],
   "source": [
    "dir_interval = 60 * 60 * 24\n",
    "file_interval = 60 * 60\n",
    "\n",
    "# 06/01/2021 00:00:00\n",
    "start = int(datetime(2021, 6, 1, 0, 0, 0, tzinfo=timezone.utc).timestamp())\n",
    "\n",
    "# 06/01/2021 23:59:59\n",
    "end = int(datetime(2021, 6, 1, 23, 59, 59, tzinfo=timezone.utc).timestamp())\n"
   ],
   "metadata": {
    "collapsed": false,
    "pycharm": {
     "name": "#%%\n"
    }
   }
  },
  {
   "cell_type": "markdown",
   "source": [
    "Each call to the Twitter Tweet Search API is characterized by a query. Please refer to the Twitter API documentation in\n",
    "order to get information on how the query string is built."
   ],
   "metadata": {
    "collapsed": false,
    "pycharm": {
     "name": "#%% md\n"
    }
   }
  },
  {
   "cell_type": "code",
   "execution_count": null,
   "outputs": [],
   "source": [
    "query = \"-is:retweet (dogecoin OR doge) (lang:en OR lang:und)\"\n",
    "\n",
    "with twitter.TweetCSVWriter(\"data\", dir_intervals=[dir_interval], file_interval=file_interval) as csv_writer:\n",
    "    for tweet in api.search(endpoint=twitter.RECENT_SEARCH_ENDPOINT, query=query, max_requests=1, start_time=start,\n",
    "                            end_time=end):\n",
    "        # Remove links\n",
    "        tweet.text = re.compile(r\"https?://\\S+\").sub(\"\", tweet.text)\n",
    "        csv_writer.write(tweet)"
   ],
   "metadata": {
    "collapsed": false,
    "pycharm": {
     "name": "#%%\n"
    }
   }
  },
  {
   "cell_type": "code",
   "execution_count": null,
   "outputs": [],
   "source": [
    "with twitter.TweetCSVReader(base_path=\"data\", dir_intervals=[dir_interval], file_interval=file_interval, start=start,\n",
    "                            end=end) as csv_reader:\n",
    "    for tweet in csv_reader:\n",
    "        print(tweet)"
   ],
   "metadata": {
    "collapsed": false,
    "pycharm": {
     "name": "#%%\n"
    }
   }
  }
 ],
 "metadata": {
  "kernelspec": {
   "display_name": "Python 3",
   "language": "python",
   "name": "python3"
  },
  "language_info": {
   "codemirror_mode": {
    "name": "ipython",
    "version": 2
   },
   "file_extension": ".py",
   "mimetype": "text/x-python",
   "name": "python",
   "nbconvert_exporter": "python",
   "pygments_lexer": "ipython2",
   "version": "2.7.6"
  }
 },
 "nbformat": 4,
 "nbformat_minor": 0
}